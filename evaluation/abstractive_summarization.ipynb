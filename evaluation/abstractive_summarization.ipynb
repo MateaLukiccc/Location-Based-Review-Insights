{
 "cells": [
  {
   "cell_type": "code",
   "execution_count": null,
   "id": "07ce3757",
   "metadata": {},
   "outputs": [],
   "source": [
    "from chromadb import PersistentClient\n",
    "from chromadb.utils import embedding_functions"
   ]
  },
  {
   "cell_type": "code",
   "execution_count": null,
   "id": "f94e4edf",
   "metadata": {},
   "outputs": [],
   "source": [
    "def get_chroma_client():\n",
    "    return PersistentClient(path=\"redacted\")"
   ]
  },
  {
   "cell_type": "code",
   "execution_count": null,
   "id": "d9181e70",
   "metadata": {},
   "outputs": [],
   "source": [
    "embedding_function_name = \"all-mpnet-base-v2\"\n",
    "embedding_function = embedding_functions.SentenceTransformerEmbeddingFunction(model_name=embedding_function_name)"
   ]
  },
  {
   "cell_type": "code",
   "execution_count": 5,
   "id": "195913c0",
   "metadata": {},
   "outputs": [],
   "source": [
    "collection = get_chroma_client().get_or_create_collection(\"KotorReviews\", embedding_function=embedding_function)"
   ]
  },
  {
   "cell_type": "code",
   "execution_count": 16,
   "id": "df523980",
   "metadata": {},
   "outputs": [],
   "source": [
    "def get_entries_by_distance(collection, keyword: str, distance_bound: float=2):\n",
    "    results = collection.query(query_texts=[keyword])\n",
    "    filtered_results = {\n",
    "        \"ids\": [],\n",
    "        \"documents\": [],\n",
    "        \"metadatas\": [],\n",
    "        \"distances\": [],\n",
    "    }\n",
    "\n",
    "    if results[\"distances\"] and results[\"ids\"]:\n",
    "        for i, distance in enumerate(results[\"distances\"][0]):\n",
    "            if distance <= distance_bound:\n",
    "                filtered_results[\"ids\"].append(results[\"ids\"][0][i])\n",
    "                filtered_results[\"documents\"].append(results[\"documents\"][0][i])\n",
    "                filtered_results[\"metadatas\"].append(results[\"metadatas\"][0][i])\n",
    "                filtered_results[\"distances\"].append(distance)\n",
    "    return filtered_results"
   ]
  },
  {
   "cell_type": "code",
   "execution_count": 7,
   "id": "120e5a06",
   "metadata": {},
   "outputs": [],
   "source": [
    "def get_entries_low(collection):\n",
    "    return collection.get(where={\"review_rating\": {\"$lte\": 3}})\n",
    "\n",
    "def get_entries_high(collection):\n",
    "    return collection.get(where={\"review_rating\": {\"$gte\": 4}})"
   ]
  },
  {
   "cell_type": "code",
   "execution_count": 8,
   "id": "f3f38578",
   "metadata": {},
   "outputs": [],
   "source": [
    "def get_summarize_reviews_prompt(keyword, reviews_text):\n",
    "    return f\"\"\"\n",
    "User Interest: {keyword}\n",
    "\n",
    "Reviews Text:\n",
    "---BEGIN REVIEWS---\n",
    "{reviews_text}\n",
    "---END REVIEWS---\n",
    "\n",
    "Analyze these reviews.\n",
    "\"\"\"\n",
    "\n",
    "def structure_reviews(reviews_text):\n",
    "    return f\"\"\"\n",
    "Reviews Text:\n",
    "---BEGIN REVIEWS---\n",
    "{reviews_text}\n",
    "---END REVIEWS---\n",
    "\"\"\"\n",
    "\n",
    "system_summarize_prompt: str = \"\"\"\n",
    "You are a highly focused Review Analysis Engine. Your task is to extract positive and negative insights from customer reviews, strictly filtered by the user's provided interest keyword.\n",
    "\n",
    "Instructions:\n",
    "1. Analyze the user-provided 'Reviews Text'.\n",
    "2. Identify and isolate *only* the statements directly relevant to user keyword. Ignore all other content.\n",
    "3. From the relevant statements, extract distinct positive points (pros, praise, satisfaction).\n",
    "4. From the relevant statements, extract distinct negative points (cons, criticism, dissatisfaction).\n",
    "5. Generate a summary based *only* on these extracted points. The summary should be in sentence form only, without any lists or bullet points.\n",
    "\n",
    "Output Format:\n",
    "- If relevant insights are found, present them in sentence form, clearly distinguishing between positive and negative aspects related to '{keyword}'. For example: \"Summary: Positively, customers frequently praised the {keyword} for its [positive aspect]. On the other hand, some users expressed concern regarding [negative aspect] of the {keyword}.\"\n",
    "- If *no* relevant insights concerning the keyword are found, output *only*:\n",
    "    No specific insights related to provided keyword were found in the provided reviews.\n",
    "\"\"\"\n",
    "\n",
    "system_positive_prompt=\"\"\"\n",
    "Analyze the following positive customer reviews to pinpoint concrete strengths and areas of excellence. Identify the specific features, aspects, or experiences that customers explicitly praise and find valuable. Focus on extracting actionable insights into what is working well and driving positive sentiment. Summarize these key positive takeaways concisely in sentence form.\n",
    "\n",
    "Instructions:\n",
    "1. Scrutinize the 'Reviews Text' to identify all statements expressing positive sentiment or approval related to the user's keyword. Disregard neutral or negative comments.\n",
    "2. For each positive statement, determine the precise element being praised (e.g., specific feature, service quality, ease of use).\n",
    "3. Group similar positive points to reveal recurring strengths and popular aspects.\n",
    "4. Highlight any particularly strong endorsements or frequently mentioned benefits that clearly indicate customer satisfaction.\n",
    "5. Formulate a concise summary using complete sentences that explicitly detail the identified strengths and positive aspects. Avoid lists or bullet points.\n",
    "\n",
    "Output Format:\n",
    "- Present the key positive findings in sentence form, clearly articulating what customers specifically appreciate and value.\n",
    "\"\"\"\n",
    "\n",
    "system_negative_prompt=\"\"\"\n",
    "Critically examine the following negative customer reviews to expose significant weaknesses and areas needing urgent improvement. Identify the precise issues, shortcomings, and frustrations that customers explicitly mention as unsatisfactory or problematic. Focus on extracting actionable insights into what is failing to meet expectations and generating negative sentiment. Summarize these critical negative takeaways concisely in sentence form, emphasizing what customers found genuinely poor or unacceptable.\n",
    "\n",
    "Instructions:\n",
    "1. Thoroughly review the 'Reviews Text' to identify all statements expressing negative sentiment, complaints, or criticism related to the user's keyword. Disregard neutral or positive comments.\n",
    "2. For each negative statement, determine the exact problem or deficiency being highlighted (e.g., faulty feature, poor service, difficult process).\n",
    "3. Group similar negative points to reveal recurring weaknesses and widespread issues.\n",
    "4. Emphasize any severe complaints, frequently mentioned problems, or aspects that customers strongly disliked or found unusable.\n",
    "5. Formulate a concise summary using complete sentences that directly address the identified weaknesses and unsatisfactory aspects, clearly stating what customers found bad or unacceptable. Avoid lists or bullet points.\n",
    "\n",
    "Output Format:\n",
    "- Present the key negative findings in sentence form, clearly articulating what customers specifically disliked, found problematic, or deemed unacceptable.\n",
    "\"\"\""
   ]
  },
  {
   "cell_type": "code",
   "execution_count": null,
   "id": "ce5d7444",
   "metadata": {},
   "outputs": [],
   "source": [
    "from google import genai\n",
    "from google.genai import types\n",
    "\n",
    "GEMINI_API_KEY=\"redacted\"\n",
    "\n",
    "def critique_reviews(text, keyword: str):\n",
    "    client = genai.Client(\n",
    "        api_key=GEMINI_API_KEY,\n",
    "    )\n",
    "    response = client.models.generate_content(\n",
    "        model=\"gemini-2.0-flash\",\n",
    "        contents=[\n",
    "            types.Content(\n",
    "                parts=[\n",
    "                    {\"text\": system_summarize_prompt},\n",
    "                    {\"text\": get_summarize_reviews_prompt(keyword, text)}\n",
    "                ],\n",
    "                role=\"user\"\n",
    "            )\n",
    "        ]\n",
    "    )\n",
    "    return response.text\n",
    "\n",
    "def generate_positive_summary(reviews: str):\n",
    "    client = genai.Client(\n",
    "        api_key=GEMINI_API_KEY,\n",
    "    )\n",
    "    response = client.models.generate_content(\n",
    "        model=\"gemini-2.0-flash\",\n",
    "        contents=[\n",
    "            types.Content(\n",
    "                parts=[\n",
    "                    {\"text\": system_positive_prompt},\n",
    "                    {\"text\": structure_reviews(reviews)}\n",
    "                ],\n",
    "                role=\"user\"\n",
    "            )\n",
    "        ]\n",
    "    )\n",
    "    return response.text\n",
    "\n",
    "def generate_negative_summary(reviews: str):\n",
    "    client = genai.Client(\n",
    "        api_key=GEMINI_API_KEY,\n",
    "    )\n",
    "    response = client.models.generate_content(\n",
    "        model=\"gemini-2.0-flash\",\n",
    "        contents=[\n",
    "            types.Content(\n",
    "                parts=[\n",
    "                    {\"text\": system_negative_prompt},\n",
    "                    {\"text\": structure_reviews(reviews)}\n",
    "                ],\n",
    "                role=\"user\"\n",
    "            )\n",
    "        ]\n",
    "    )\n",
    "    return response.text"
   ]
  },
  {
   "cell_type": "code",
   "execution_count": 11,
   "id": "d6cc02af",
   "metadata": {},
   "outputs": [],
   "source": [
    "def get_summary(collection, keyword: str, distance_bound: float=1.1):\n",
    "    relevant_reviews = get_entries_by_distance(collection, keyword, distance_bound)\n",
    "    if not relevant_reviews:\n",
    "        return \"There are no reviews for this keyword\"\n",
    "    return critique_reviews(relevant_reviews.get(\"documents\", []), keyword)\n",
    "\n",
    "def get_good_summary(collection):\n",
    "    reviews = get_entries_high(collection).get(\"documents\", [])\n",
    "    return generate_positive_summary(\"\\n\".join(reviews))\n",
    "\n",
    "def get_bad_summary(collection):\n",
    "    reviews = get_entries_low(collection).get(\"documents\", [])\n",
    "    return generate_negative_summary(\"\\n\".join(reviews))"
   ]
  },
  {
   "cell_type": "code",
   "execution_count": null,
   "id": "c4cabc8c",
   "metadata": {},
   "outputs": [],
   "source": [
    "bad_summary = get_bad_summary(collection)\n",
    "good_summary = get_good_summary(collection)\n",
    "view_summary = get_summary(collection, \"view\")"
   ]
  },
  {
   "cell_type": "code",
   "execution_count": 19,
   "id": "31cf287a",
   "metadata": {},
   "outputs": [],
   "source": [
    "expert_view = \"Positively, reviews are saying that the view is standalone feature and is described as best, mad and super. All the reviews are saying that its not to be missed.\"\n",
    "expert_bad = \"Many customers express strong dissatisfaction with the €8 entrance fee, which they find unjustified given the poor condition of the site. Visitors frequently complain about extensive litter, overflowing bins, foul smells (notably of urine), and general neglect throughout the path and fortress. Safety is a major concern, with reports of slippery, worn steps, unstable structures, and lack of protective barriers, posing serious risks, especially for children and the elderly. The fortress itself is described as dilapidated, nearly empty, and lacking any signage, historical information, or services. Tourists feel misled, with some noting a free, more pleasant alternative route exists. Overall, the site is widely criticized for being overpriced, unsafe, and poorly maintained, with the impressive view being the only redeeming feature.\"\n",
    "expert_good = \"Customers overwhelmingly praise the breathtaking panoramic views from the top of the fortress, often describing them as unforgettable, spectacular, or worth every step of the challenging climb. Many emphasize that the sense of accomplishment upon reaching the summit enhances the experience, especially when paired with dramatic vistas of Kotor, the bay, the old town, and surrounding mountains. The fortress's historical significance and well-preserved medieval architecture are also consistently highlighted, contributing to a deeper sense of cultural immersion. Despite the physical difficulty, the hike is perceived as a rewarding adventure, with many noting that even those not in peak physical condition can manage it with breaks. Travelers appreciate the flexibility of multiple access routes, including free scenic alternatives that offer a quieter, more natural path. Early morning or evening visits are favored for cooler temperatures and optimal lighting, especially at sunset. Additional conveniences like water and drinks sold by local vendors along the route are valued, especially during hot weather. Overall, the experience is seen as a must-do activity in Kotor, delivering a memorable combination of stunning natural beauty, historical depth, and personal achievement.\"\n"
   ]
  },
  {
   "cell_type": "code",
   "execution_count": 21,
   "id": "879569fb",
   "metadata": {},
   "outputs": [
    {
     "name": "stderr",
     "output_type": "stream",
     "text": [
      "Some weights of RobertaModel were not initialized from the model checkpoint at roberta-large and are newly initialized: ['pooler.dense.bias', 'pooler.dense.weight']\n",
      "You should probably TRAIN this model on a down-stream task to be able to use it for predictions and inference.\n"
     ]
    },
    {
     "data": {
      "text/plain": [
       "({'precision': [0.9015474319458008, 0.8989661335945129, 0.9093489050865173],\n",
       "  'recall': [0.8961949348449707, 0.8831160068511963, 0.8750645518302917],\n",
       "  'f1': [0.8988631963729858, 0.8909705877304077, 0.8918773531913757],\n",
       "  'hashcode': 'roberta-large_L17_no-idf_version=0.3.12(hug_trans=4.50.3)'},\n",
       " [{'rouge1': Score(precision=0.37037037037037035, recall=0.3448275862068966, fmeasure=0.35714285714285715),\n",
       "   'rouge2': Score(precision=0.07692307692307693, recall=0.07142857142857142, fmeasure=0.07407407407407408),\n",
       "   'rougeL': Score(precision=0.3333333333333333, recall=0.3103448275862069, fmeasure=0.32142857142857145)},\n",
       "  {'rouge1': Score(precision=0.5568181818181818, recall=0.4049586776859504, fmeasure=0.4688995215311005),\n",
       "   'rouge2': Score(precision=0.13793103448275862, recall=0.1, fmeasure=0.11594202898550725),\n",
       "   'rougeL': Score(precision=0.3409090909090909, recall=0.24793388429752067, fmeasure=0.28708133971291866)},\n",
       "  {'rouge1': Score(precision=0.7228915662650602, recall=0.3225806451612903, fmeasure=0.4460966542750929),\n",
       "   'rouge2': Score(precision=0.23170731707317074, recall=0.10270270270270271, fmeasure=0.14232209737827714),\n",
       "   'rougeL': Score(precision=0.43373493975903615, recall=0.1935483870967742, fmeasure=0.2676579925650558)}])"
      ]
     },
     "execution_count": 21,
     "metadata": {},
     "output_type": "execute_result"
    }
   ],
   "source": [
    "from rouge_score import rouge_scorer\n",
    "from evaluate import load\n",
    "\n",
    "bert_score = load(\"bertscore\")\n",
    "reference_summaries = [expert_view, expert_bad, expert_good]\n",
    "predicted_summaries = [view_summary, bad_summary, good_summary]\n",
    "results = bert_score.compute(predictions=predicted_summaries, references=reference_summaries, lang=\"en\")\n",
    "\n",
    "scorer = rouge_scorer.RougeScorer(['rouge1', 'rouge2', 'rougeL'], use_stemmer=True)\n",
    "score = []\n",
    "for i in range(len(reference_summaries)):\n",
    "    score.append(scorer.score(reference_summaries[i], predicted_summaries[i]))\n",
    "    \n",
    "results, score"
   ]
  }
 ],
 "metadata": {
  "kernelspec": {
   "display_name": "venv",
   "language": "python",
   "name": "python3"
  },
  "language_info": {
   "codemirror_mode": {
    "name": "ipython",
    "version": 3
   },
   "file_extension": ".py",
   "mimetype": "text/x-python",
   "name": "python",
   "nbconvert_exporter": "python",
   "pygments_lexer": "ipython3",
   "version": "3.12.5"
  }
 },
 "nbformat": 4,
 "nbformat_minor": 5
}
