{
 "cells": [
  {
   "cell_type": "code",
   "execution_count": null,
   "id": "ffab8470",
   "metadata": {},
   "outputs": [],
   "source": [
    "import pandas as pd\n",
    "from fastopic import FASTopic\n",
    "from topmost.preprocess import Preprocess\n",
    "import pandas as pd\n",
    "from bertopic import BERTopic\n",
    "from fastopic import FASTopic\n",
    "from gensim.models import CoherenceModel\n",
    "from gensim.corpora.dictionary import Dictionary\n",
    "import nltk\n",
    "from nltk.tokenize import word_tokenize\n",
    "from nltk.corpus import stopwords\n",
    "\n",
    "nltk.download(\"punkt\")\n",
    "nltk.download(\"stopwords\")"
   ]
  },
  {
   "cell_type": "code",
   "execution_count": null,
   "id": "0253ed8b",
   "metadata": {},
   "outputs": [
    {
     "data": {
      "text/html": [
       "<div>\n",
       "<style scoped>\n",
       "    .dataframe tbody tr th:only-of-type {\n",
       "        vertical-align: middle;\n",
       "    }\n",
       "\n",
       "    .dataframe tbody tr th {\n",
       "        vertical-align: top;\n",
       "    }\n",
       "\n",
       "    .dataframe thead th {\n",
       "        text-align: right;\n",
       "    }\n",
       "</style>\n",
       "<table border=\"1\" class=\"dataframe\">\n",
       "  <thead>\n",
       "    <tr style=\"text-align: right;\">\n",
       "      <th></th>\n",
       "      <th>Unnamed: 0</th>\n",
       "      <th>review_id</th>\n",
       "      <th>review_text</th>\n",
       "      <th>review_rating</th>\n",
       "      <th>review_datetime_utc</th>\n",
       "      <th>review_likes</th>\n",
       "    </tr>\n",
       "  </thead>\n",
       "  <tbody>\n",
       "    <tr>\n",
       "      <th>0</th>\n",
       "      <td>0</td>\n",
       "      <td>ChZDSUhNMG9nS0VJQ0FnSUM4MnFXUlp3EAE</td>\n",
       "      <td>\"must see\" spot, the view is just breathtaking...</td>\n",
       "      <td>5.0</td>\n",
       "      <td>44015.421157</td>\n",
       "      <td>0.0</td>\n",
       "    </tr>\n",
       "    <tr>\n",
       "      <th>1</th>\n",
       "      <td>1</td>\n",
       "      <td>ChZDSUhNMG9nS0VJQ0FnSUM2clBQaGJBEAE</td>\n",
       "      <td>-Attention ! Don't make the mistake of giving ...</td>\n",
       "      <td>3.0</td>\n",
       "      <td>44439.762789</td>\n",
       "      <td>1.0</td>\n",
       "    </tr>\n",
       "    <tr>\n",
       "      <th>2</th>\n",
       "      <td>2</td>\n",
       "      <td>ChZDSUhNMG9nS0VJQ0FnSURVejhyLVNREAE</td>\n",
       "      <td>..and when you think that it has been hard dug...</td>\n",
       "      <td>5.0</td>\n",
       "      <td>43716.615509</td>\n",
       "      <td>3.0</td>\n",
       "    </tr>\n",
       "    <tr>\n",
       "      <th>3</th>\n",
       "      <td>3</td>\n",
       "      <td>ChZDSUhNMG9nS0VJQ0FnSUMwNHM3MUFnEAE</td>\n",
       "      <td>/! \\ /! \\ More access possible by the outside ...</td>\n",
       "      <td>3.0</td>\n",
       "      <td>43728.446574</td>\n",
       "      <td>1.0</td>\n",
       "    </tr>\n",
       "    <tr>\n",
       "      <th>4</th>\n",
       "      <td>4</td>\n",
       "      <td>ChZDSUhNMG9nS0VJQ0FnSURrdllxaUF3EAE</td>\n",
       "      <td>+ 37 ° C in the mountain ........ But the view...</td>\n",
       "      <td>5.0</td>\n",
       "      <td>43651.407384</td>\n",
       "      <td>0.0</td>\n",
       "    </tr>\n",
       "  </tbody>\n",
       "</table>\n",
       "</div>"
      ],
      "text/plain": [
       "   Unnamed: 0                            review_id  \\\n",
       "0           0  ChZDSUhNMG9nS0VJQ0FnSUM4MnFXUlp3EAE   \n",
       "1           1  ChZDSUhNMG9nS0VJQ0FnSUM2clBQaGJBEAE   \n",
       "2           2  ChZDSUhNMG9nS0VJQ0FnSURVejhyLVNREAE   \n",
       "3           3  ChZDSUhNMG9nS0VJQ0FnSUMwNHM3MUFnEAE   \n",
       "4           4  ChZDSUhNMG9nS0VJQ0FnSURrdllxaUF3EAE   \n",
       "\n",
       "                                         review_text  review_rating  \\\n",
       "0  \"must see\" spot, the view is just breathtaking...            5.0   \n",
       "1  -Attention ! Don't make the mistake of giving ...            3.0   \n",
       "2  ..and when you think that it has been hard dug...            5.0   \n",
       "3  /! \\ /! \\ More access possible by the outside ...            3.0   \n",
       "4  + 37 ° C in the mountain ........ But the view...            5.0   \n",
       "\n",
       "   review_datetime_utc  review_likes  \n",
       "0         44015.421157           0.0  \n",
       "1         44439.762789           1.0  \n",
       "2         43716.615509           3.0  \n",
       "3         43728.446574           1.0  \n",
       "4         43651.407384           0.0  "
      ]
     },
     "execution_count": 2,
     "metadata": {},
     "output_type": "execute_result"
    }
   ],
   "source": [
    "df_kotor = pd.read_csv(\"redacted\")\n",
    "df_kotor.head()"
   ]
  },
  {
   "cell_type": "code",
   "execution_count": 10,
   "id": "937fd55c",
   "metadata": {},
   "outputs": [],
   "source": [
    "preprocess = Preprocess()\n",
    "model = FASTopic(4, preprocess)"
   ]
  },
  {
   "cell_type": "code",
   "execution_count": null,
   "id": "5ec280b8",
   "metadata": {},
   "outputs": [],
   "source": [
    "docs_raw = df_kotor[\"review_text\"].dropna().tolist()\n",
    "\n",
    "stop_words = set(stopwords.words(\"english\"))\n",
    "def preprocess(doc):\n",
    "    tokens = word_tokenize(doc.lower())\n",
    "    return \" \".join([t for t in tokens if t.isalpha() and t not in stop_words])\n",
    "\n",
    "docs = [preprocess(doc) for doc in docs_raw]\n",
    "tokenized_docs = [doc.split() for doc in docs]"
   ]
  },
  {
   "cell_type": "code",
   "execution_count": null,
   "id": "97d21f62",
   "metadata": {},
   "outputs": [
    {
     "name": "stderr",
     "output_type": "stream",
     "text": [
      "loading train texts: 100%|██████████| 1768/1768 [00:00<00:00, 17680.19it/s]\n",
      "parsing texts: 100%|██████████| 1768/1768 [00:00<00:00, 41114.47it/s]\n",
      "2025-06-14 19:54:56,069 - TopMost - Real vocab size: 3219\n",
      "2025-06-14 19:54:56,070 - TopMost - Real training size: 1768 \t avg length: 11.697\n",
      "Training FASTopic: 100%|██████████| 200/200 [00:12<00:00, 15.53it/s]\n"
     ]
    },
    {
     "data": {
      "text/plain": [
       "[['water', 'hike', 'shoes', 'morning', 'sun'],\n",
       " ['exercise', 'brilliant', 'fabulous', 'awesome', 'priceless'],\n",
       " ['requires', 'physical', 'thousand', 'huge', 'reward'],\n",
       " ['charming', 'restaurants', 'lovely', 'romantic', 'stay'],\n",
       " ['unforgettable', 'beauty', 'wow', 'super', 'com'],\n",
       " ['fortress', 'kotor', 'old', 'town', 'city'],\n",
       " ['unforgettable', 'beauty', 'wow', 'super', 'com'],\n",
       " ['historical', 'medieval', 'neglected', 'fjord', 'kotorska']]"
      ]
     },
     "execution_count": 110,
     "metadata": {},
     "output_type": "execute_result"
    }
   ],
   "source": [
    "fastopic_model = FASTopic(num_topics=8, preprocess=Preprocess())\n",
    "fastopic_model.fit_transform(df_kotor[\"review_text\"])\n",
    "\n",
    "fastopic_topic_words = []\n",
    "for i, x in enumerate(fastopic_model.get_topic_weights()):\n",
    "    fastopic_topic_words.append([x[0] for x in fastopic_model.get_topic(topic_idx=i)])"
   ]
  },
  {
   "cell_type": "code",
   "execution_count": null,
   "id": "c6ffe5d7",
   "metadata": {},
   "outputs": [
    {
     "data": {
      "text/plain": [
       "(0.4573321143375675, 0.82)"
      ]
     },
     "execution_count": 2,
     "metadata": {},
     "output_type": "execute_result"
    }
   ],
   "source": [
    "fastopic_model = FASTopic(num_topics=10, preprocess=Preprocess(), num_top_words=5)\n",
    "fastopic_model.fit_transform(df_kotor[\"review_text\"])\n",
    "\n",
    "# Get topic words\n",
    "fastopic_topic_words = []\n",
    "for i, x in enumerate(fastopic_model.get_topic_weights()):\n",
    "    fastopic_topic_words.append([x[0] for x in fastopic_model.get_topic(topic_idx=i)])\n",
    "    \n",
    "dictionary = Dictionary(tokenized_docs)\n",
    "corpus = [dictionary.doc2bow(text) for text in tokenized_docs]\n",
    "\n",
    "def evaluate_coherence(topics_words, texts, dictionary, metric='c_v'):\n",
    "    cm = CoherenceModel(topics=topics_words, texts=texts, dictionary=dictionary, coherence=metric)\n",
    "    return cm.get_coherence()\n",
    "\n",
    "def calculate_diversity(topics_words):\n",
    "    all_words = [word for topic in topics_words for word in topic]\n",
    "    unique_words = set(all_words)\n",
    "    return len(unique_words) / len(all_words)\n",
    "\n",
    "fastopic_coherence = evaluate_coherence(fastopic_topic_words, tokenized_docs, dictionary)\n",
    "fastopic_diversity = calculate_diversity(fastopic_topic_words)\n",
    "\n",
    "fastopic_coherence, fastopic_diversity"
   ]
  },
  {
   "cell_type": "code",
   "execution_count": null,
   "id": "b62a0a66",
   "metadata": {},
   "outputs": [
    {
     "name": "stdout",
     "output_type": "stream",
     "text": [
      "0.4943371902922772 0.64\n"
     ]
    }
   ],
   "source": [
    "bertopic_model = BERTopic(language=\"english\", calculate_probabilities=False, verbose=False, nr_topics=10, top_n_words=5)\n",
    "bertopic_topics, _ = bertopic_model.fit_transform(docs)\n",
    "bertopic_topic_words = [topic for topic in bertopic_model.get_topics().values()]\n",
    "\n",
    "bert_words = []\n",
    "for x in bertopic_topic_words:\n",
    "    new_words = []\n",
    "    for word, rating in x:\n",
    "        new_words.append(word)\n",
    "    bert_words.append(new_words)\n",
    "    \n",
    "bertopic_coherence = evaluate_coherence(bert_words, tokenized_docs, dictionary)\n",
    "bertopic_diversity = calculate_diversity(bert_words)\n",
    "\n",
    "print(bertopic_coherence, bertopic_diversity)"
   ]
  }
 ],
 "metadata": {
  "kernelspec": {
   "display_name": "venv",
   "language": "python",
   "name": "python3"
  },
  "language_info": {
   "codemirror_mode": {
    "name": "ipython",
    "version": 3
   },
   "file_extension": ".py",
   "mimetype": "text/x-python",
   "name": "python",
   "nbconvert_exporter": "python",
   "pygments_lexer": "ipython3",
   "version": "3.12.5"
  }
 },
 "nbformat": 4,
 "nbformat_minor": 5
}
